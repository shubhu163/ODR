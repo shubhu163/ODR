{
 "cells": [
  {
   "cell_type": "code",
   "execution_count": 2,
   "metadata": {
    "execution": {
     "iopub.execute_input": "2023-05-01T18:31:47.488254Z",
     "iopub.status.busy": "2023-05-01T18:31:47.487543Z",
     "iopub.status.idle": "2023-05-01T18:31:47.494704Z",
     "shell.execute_reply": "2023-05-01T18:31:47.493041Z",
     "shell.execute_reply.started": "2023-05-01T18:31:47.488218Z"
    }
   },
   "outputs": [],
   "source": [
    "import os\n",
    "import torch\n",
    "import torchvision\n",
    "from torch import nn\n",
    "import numpy as np\n",
    "from tqdm.auto import tqdm\n",
    "from torch.utils.data import DataLoader, Dataset\n",
    "from torchvision import transforms, datasets\n",
    "from pathlib import Path\n",
    "from timeit import default_timer as timer\n",
    "from torch.utils.data import Subset\n"
   ]
  },
  {
   "cell_type": "code",
   "execution_count": 3,
   "metadata": {
    "execution": {
     "iopub.execute_input": "2023-05-01T18:31:50.143132Z",
     "iopub.status.busy": "2023-05-01T18:31:50.142757Z",
     "iopub.status.idle": "2023-05-01T18:31:50.152540Z",
     "shell.execute_reply": "2023-05-01T18:31:50.151306Z",
     "shell.execute_reply.started": "2023-05-01T18:31:50.143100Z"
    }
   },
   "outputs": [
    {
     "data": {
      "text/plain": [
       "'cuda'"
      ]
     },
     "execution_count": 3,
     "metadata": {},
     "output_type": "execute_result"
    }
   ],
   "source": [
    "torch.manual_seed(42)\n",
    "torch.cuda.manual_seed(42)\n",
    "\n",
    "device = \"cuda\" if torch.cuda.is_available() else \"cpu\"\n",
    "device\n"
   ]
  },
  {
   "cell_type": "code",
   "execution_count": 7,
   "metadata": {
    "execution": {
     "iopub.execute_input": "2023-05-01T18:34:16.031447Z",
     "iopub.status.busy": "2023-05-01T18:34:16.031079Z",
     "iopub.status.idle": "2023-05-01T18:34:16.042922Z",
     "shell.execute_reply": "2023-05-01T18:34:16.041909Z",
     "shell.execute_reply.started": "2023-05-01T18:34:16.031414Z"
    }
   },
   "outputs": [],
   "source": [
    "# train_dir = Path( '/content/drive/MyDrive/Disease_vs_Normal_New/train')\n",
    "test_dir = Path('/kaggle/input/nehmicha-data/Disease_vs_Normal/test')\n",
    "\n",
    "data_transform = transforms.Compose([\n",
    "    # Resize our images to 64x64\n",
    "    transforms.Resize(size=(320, 320)),\n",
    "    # Flip the images randomly on the horizontal \n",
    "    transforms.RandomHorizontalFlip(p=0.5),\n",
    "    transforms.RandomRotation(15),\n",
    "    # Turn the image into a torch.Tensor\n",
    "    transforms.ToTensor()\n",
    "])\n",
    "\n",
    "batch_size = 8\n",
    "test_dataset = datasets.ImageFolder(test_dir, transform=data_transform)\n",
    "test_loader = DataLoader(test_dataset, batch_size=batch_size, shuffle=False, num_workers=os.cpu_count())"
   ]
  },
  {
   "cell_type": "code",
   "execution_count": 10,
   "metadata": {
    "_kg_hide-output": false,
    "execution": {
     "iopub.execute_input": "2023-05-01T18:39:51.001738Z",
     "iopub.status.busy": "2023-05-01T18:39:51.001328Z",
     "iopub.status.idle": "2023-05-01T18:40:52.182227Z",
     "shell.execute_reply": "2023-05-01T18:40:52.180881Z",
     "shell.execute_reply.started": "2023-05-01T18:39:51.001704Z"
    }
   },
   "outputs": [
    {
     "name": "stdout",
     "output_type": "stream",
     "text": [
      "Precision 0.7758620689655172\n",
      "Recall 0.9375\n",
      "Confusion matrix:\n",
      "[[210  78]\n",
      " [ 18 270]]\n",
      "Accuracy: 0.8333333333333334\n"
     ]
    }
   ],
   "source": [
    "import torch\n",
    "import torch.nn as nn\n",
    "from sklearn.metrics import confusion_matrix\n",
    "from sklearn.metrics import precision_score, recall_score\n",
    "\n",
    "class Binaryduper_EnsembleModel(nn.Module):\n",
    "    def __init__(self, model1, model2, model3,model4):\n",
    "        super(Binaryduper_EnsembleModel, self).__init__()\n",
    "        self.model1 = model1\n",
    "        self.model2 = model2\n",
    "        self.model3 = model3\n",
    "        self.model4 = model4\n",
    "        \n",
    "    def forward(self, x):\n",
    "        x = x.to(device)\n",
    "        preds1 = torch.sigmoid(self.model1(x))\n",
    "        preds2 = torch.sigmoid(self.model2(x))\n",
    "        preds3 = torch.sigmoid(self.model3(x))\n",
    "        preds4 = torch.sigmoid(self.model4(x))\n",
    "        preds = (preds1 + preds2 + preds3 + preds4) / 4\n",
    "        return preds # return the predictions on the same device as input\n",
    "\n",
    "# Load the individual models\n",
    "model1 = torch.load('/kaggle/input/normal-models/Test_model_26_04_2023.Efficienet_V1_8-Batch_80.pt')\n",
    "model2 = torch.load('/kaggle/input/normal-models/Test_model_26_04_2023.Resnet_V2_8-Batch._80.pt')\n",
    "model3 = torch.load('/kaggle/input/binarymodels/Binary_model_30_04_2023.Resnext32x4d_V1_8-Batch (1).pt')\n",
    "model4 = torch.load('/kaggle/input/binarymodels/Binary_model_30_04_2023.EfficientNetB6_V1_8-Batch_14.pt')\n",
    "# Create the ensemble model\n",
    "ensemble_model = Binaryduper_EnsembleModel(model1, model2, model3, model4)\n",
    "\n",
    "# Move the ensemble model to the GPU\n",
    "device = torch.device('cuda' if torch.cuda.is_available() else 'cpu')\n",
    "model = ensemble_model.to(device)\n",
    "\n",
    "# Save the ensemble model\n",
    "torch.save(ensemble_model, '/kaggle/working/Binary_duper4_ensemble_model.pt')\n",
    "\n",
    "\n",
    "# ensemble_model = EnsembleModel(model1, model2, model3)\n",
    "# ensemble_model.load_state_dict(torch.load('/kaggle/working/ensemble_model.pt'))\n",
    "# ensemble_model = ensemble_model.to(device)\n",
    "\n",
    "criterion = nn.CrossEntropyLoss()\n",
    "total_correct = 0\n",
    "total_samples = 0\n",
    "\n",
    "# Iterate over your test data and update your accuracy counters\n",
    "model.eval()\n",
    "predictions = []\n",
    "true_labels = []\n",
    "with torch.no_grad():\n",
    "    for inputs, labels in test_dataset:\n",
    "        inputs = inputs.to(device)\n",
    "        labels = torch.tensor(labels).to(device)\n",
    "        outputs = model(inputs.unsqueeze(0)).to(device)\n",
    "        _, predicted = torch.max(outputs.data, 1)\n",
    "        predictions.extend(predicted.cpu().numpy())\n",
    "        true_labels.extend((labels.item(),))\n",
    "\n",
    "# Compute the confusion matrix\n",
    "cm = confusion_matrix(true_labels, predictions)\n",
    "accuracy = (cm.diagonal().sum() / cm.sum())\n",
    "precision = precision_score(true_labels, predictions)\n",
    "recall = recall_score(true_labels, predictions)\n",
    "\n",
    "print(\"Precision\", precision)\n",
    "print(\"Recall\" , recall)\n",
    "print(\"Confusion matrix:\")\n",
    "print(cm)\n",
    "print(\"Accuracy:\", accuracy)"
   ]
  },
  {
   "cell_type": "code",
   "execution_count": 46,
   "metadata": {
    "execution": {
     "iopub.execute_input": "2023-04-30T13:22:25.962927Z",
     "iopub.status.busy": "2023-04-30T13:22:25.961918Z",
     "iopub.status.idle": "2023-04-30T13:23:12.746967Z",
     "shell.execute_reply": "2023-04-30T13:23:12.745351Z",
     "shell.execute_reply.started": "2023-04-30T13:22:25.962858Z"
    }
   },
   "outputs": [
    {
     "name": "stdout",
     "output_type": "stream",
     "text": [
      "Precision 0.7003192441417241\n",
      "Recall 0.7667095166606052\n",
      "Confusion matrix:\n",
      "[[ 36   0   8   2   1   6]\n",
      " [  0  51   1   2   0   4]\n",
      " [  5   2 245   6   2  61]\n",
      " [  0   2   5  39   0  10]\n",
      " [  0   0   1   0  42   3]\n",
      " [ 18  11 130  27   4 384]]\n",
      "Accuracy: 0.7193140794223827\n"
     ]
    }
   ],
   "source": [
    "from sklearn.metrics import precision_score, recall_score,confusion_matrix\n",
    "model = torch.load(\"/kaggle/input/mul-modells/Multiple_model_27_04_2023.Efficienet_V2_s_8-Batch_70.pt\")\n",
    "model.eval()\n",
    "predictions = []\n",
    "true_labels = []\n",
    "with torch.no_grad():\n",
    "    for inputs, labels in test_dataset:\n",
    "        inputs = inputs.to(device)\n",
    "        labels = torch.tensor(labels).to(device)\n",
    "        outputs = model(inputs.unsqueeze(0)).to(device)\n",
    "        _, predicted = torch.max(outputs.data, 1)\n",
    "        predictions.extend(predicted.cpu().numpy())\n",
    "        true_labels.extend((labels.item(),))\n",
    "\n",
    "# Compute the confusion matrix\n",
    "cm = confusion_matrix(true_labels, predictions)\n",
    "accuracy = (cm.diagonal().sum() / cm.sum())\n",
    "precision = precision_score(true_labels, predictions, average = 'macro')\n",
    "recall = recall_score(true_labels, predictions, average = 'macro')\n",
    "\n",
    "print(\"Precision\", precision)\n",
    "print(\"Recall\" , recall)\n",
    "print(\"Confusion matrix:\")\n",
    "print(cm)\n",
    "print(\"Accuracy:\", accuracy)"
   ]
  },
  {
   "cell_type": "code",
   "execution_count": 47,
   "metadata": {
    "execution": {
     "iopub.execute_input": "2023-04-30T13:23:19.375127Z",
     "iopub.status.busy": "2023-04-30T13:23:19.373993Z",
     "iopub.status.idle": "2023-04-30T13:23:19.787463Z",
     "shell.execute_reply": "2023-04-30T13:23:19.786084Z",
     "shell.execute_reply.started": "2023-04-30T13:23:19.375085Z"
    }
   },
   "outputs": [
    {
     "data": {
      "image/png": "[encoded data removed]",
      "text/plain": [
       "<Figure size 640x480 with 2 Axes>"
      ]
     },
     "metadata": {},
     "output_type": "display_data"
    }
   ],
   "source": [
    "import matplotlib.pyplot as plt\n",
    "import seaborn as sns\n",
    "from sklearn.metrics import confusion_matrix\n",
    "\n",
    "# define your confusion matrix\n",
    "matrix = cm.astype(int)\n",
    "\n",
    "\n",
    "# create a heatmap of the confusion matrix\n",
    "sns.heatmap(matrix, annot=True, cmap='Purples', fmt='d')\n",
    "\n",
    "# add labels to the plot\n",
    "plt.xlabel('Predicted labels')\n",
    "plt.ylabel('True labels')\n",
    "plt.title('EfficientNet V2 S')\n",
    "\n",
    "# show the plot\n",
    "plt.show()"
   ]
  },
  {
   "cell_type": "code",
   "execution_count": 13,
   "metadata": {
    "execution": {
     "iopub.execute_input": "2023-05-01T18:48:02.578540Z",
     "iopub.status.busy": "2023-05-01T18:48:02.577469Z",
     "iopub.status.idle": "2023-05-01T18:48:45.039941Z",
     "shell.execute_reply": "2023-05-01T18:48:45.038688Z",
     "shell.execute_reply.started": "2023-05-01T18:48:02.578478Z"
    }
   },
   "outputs": [
    {
     "name": "stdout",
     "output_type": "stream",
     "text": [
      "Precision 0.8446153846153847\n",
      "Recall 0.828125\n",
      "Confusion matrix:\n",
      "[[207  81]\n",
      " [ 18 270]]\n",
      "Accuracy: 0.828125\n"
     ]
    }
   ],
   "source": [
    "import torch\n",
    "import torch.nn as nn\n",
    "from sklearn.metrics import confusion_matrix\n",
    "\n",
    "class Bin_EnsembleModel(nn.Module):\n",
    "    def __init__(self,model1,model2, model3):\n",
    "        super(Bin_EnsembleModel, self).__init__()\n",
    "        self.model1 = model1\n",
    "        self.model2 = model2\n",
    "        self.model3 = model3\n",
    "     \n",
    "        \n",
    "    def forward(self, x):\n",
    "        x = x.to(device)\n",
    "        preds1 = torch.sigmoid(self.model1(x))\n",
    "        preds2 = torch.sigmoid(self.model2(x))\n",
    "        preds3 = torch.sigmoid(self.model3(x))\n",
    " \n",
    "        preds = ( preds1 + preds2 + preds3) / 3\n",
    "        return preds # return the predictions on the same device as input\n",
    "\n",
    "# Load the individual models\n",
    "model1 = torch.load('/kaggle/input/binarymodels/Binary_model_30_04_2023.EfficientNetB6_V1_8-Batch_14.pt')\n",
    "model2 = torch.load('/kaggle/input/binarymodels/Binary_model_30_04_2023.Resnext32x4d_V1_8-Batch (1).pt')\n",
    "model3 = torch.load(\"/kaggle/input/normal-models/Test_model_26_04_2023.Resnet_V2_8-Batch._80.pt\")\n",
    "ensemble_model = Bin_EnsembleModel( model1,model2,model3)\n",
    "\n",
    "# Move the ensemble model to the GPU\n",
    "device = torch.device('cuda' if torch.cuda.is_available() else 'cpu')\n",
    "model = ensemble_model.to(device)\n",
    "# Save the ensemble model\n",
    "torch.save(ensemble_model,'/kaggle/working/Binary3_ensemble_model.pt')\n",
    "\n",
    "\n",
    "# ensemble_model = EnsembleModel(model1, model2, model3)\n",
    "# ensemble_model.load_state_dict(torch.load('/kaggle/working/ensemble_model.pt'))\n",
    "# ensemble_model = ensemble_model.to(device)\n",
    "\n",
    "criterion = nn.CrossEntropyLoss()\n",
    "total_correct = 0\n",
    "total_samples = 0\n",
    "\n",
    "# Iterate over your test data and update your accuracy counters\n",
    "model.eval()\n",
    "predictions = []\n",
    "true_labels = []\n",
    "with torch.no_grad():\n",
    "    for inputs, labels in test_dataset:\n",
    "        inputs = inputs.to(device)\n",
    "        labels = torch.tensor(labels).to(device)\n",
    "        outputs = model(inputs.unsqueeze(0)).to(device)\n",
    "        _, predicted = torch.max(outputs.data, 1)\n",
    "        predictions.extend(predicted.cpu().numpy())\n",
    "        true_labels.extend((labels.item(),))\n",
    "\n",
    "# Compute the confusion matrix\n",
    "cm = confusion_matrix(true_labels, predictions)\n",
    "precision = precision_score(true_labels, predictions, average = 'macro')\n",
    "recall = recall_score(true_labels, predictions, average = 'macro')\n",
    "\n",
    "print(\"Precision\", precision)\n",
    "print(\"Recall\" , recall)\n",
    "# Compute the accuracy\n",
    "accuracy = (cm.diagonal().sum() / cm.sum())\n",
    "\n",
    "print(\"Confusion matrix:\")\n",
    "print(cm)\n",
    "print(\"Accuracy:\", accuracy)"
   ]
  },
  {
   "cell_type": "code",
   "execution_count": 12,
   "metadata": {
    "execution": {
     "iopub.execute_input": "2023-04-30T08:20:13.701466Z",
     "iopub.status.busy": "2023-04-30T08:20:13.701082Z",
     "iopub.status.idle": "2023-04-30T08:20:47.414884Z",
     "shell.execute_reply": "2023-04-30T08:20:47.413777Z",
     "shell.execute_reply.started": "2023-04-30T08:20:13.701432Z"
    }
   },
   "outputs": [
    {
     "name": "stdout",
     "output_type": "stream",
     "text": [
      "Confusion matrix:\n",
      "[[ 22   0   0   0   1   4]\n",
      " [  0  24   0   1   0   6]\n",
      " [  3   0 111   1   0  47]\n",
      " [  1   0   1  22   1   5]\n",
      " [  0   0   0   0  22   2]\n",
      " [  9   5  18  15   2 239]]\n",
      "Accuracy: 0.7829181494661922\n"
     ]
    }
   ],
   "source": [
    "import torch\n",
    "import torch.nn as nn\n",
    "from sklearn.metrics import confusion_matrix\n",
    "\n",
    "class Super_EnsembleModel(nn.Module):\n",
    "    def __init__(self, model1, model2):\n",
    "        super(Super_EnsembleModel, self).__init__()\n",
    "        self.model1 = model1\n",
    "        self.model2 = model2\n",
    "        \n",
    "    def forward(self, x):\n",
    "        x = x.to(device)\n",
    "        preds1 = torch.sigmoid(self.model1(x))\n",
    "        preds2 = torch.sigmoid(self.model2(x))\n",
    "        preds = (preds1 + preds2) / 2\n",
    "        return preds # return the predictions on the same device as input\n",
    "\n",
    "# Load the individual models\n",
    "model1 = torch.load('/kaggle/input/super-model12/Super_Model_29_04_2023.Resnext32_V2_8-Batch.pt')\n",
    "model2 = torch.load('/kaggle/input/super-model12/Super_model_29_04_2023.EfficientnetB6_V2_8-Batch.pt')\n",
    "\n",
    "\n",
    "# Create the ensemble model\n",
    "ensemble_model = Super_EnsembleModel(model1, model2)\n",
    "\n",
    "# Move the ensemble model to the GPU\n",
    "device = torch.device('cuda' if torch.cuda.is_available() else 'cpu')\n",
    "model = ensemble_model.to(device)\n",
    "\n",
    "# Save the ensemble model\n",
    "torch.save(model,'/kaggle/working/Super_Ensemble_model_30.pt')\n",
    "\n",
    "\n",
    "# ensemble_model = Super_EnsembleModel(model1, model2)\n",
    "# ensemble_model.load_state_dict(torch.load('/kaggle/working/ensemble_model.pt'))\n",
    "# ensemble_model = ensemble_model.to(device)\n",
    "\n",
    "criterion = nn.CrossEntropyLoss()\n",
    "total_correct = 0\n",
    "total_samples = 0\n",
    "\n",
    "# Iterate over your test data and update your accuracy counters\n",
    "model.eval()\n",
    "predictions = []\n",
    "true_labels = []\n",
    "with torch.no_grad():\n",
    "    for inputs, labels in test_dataset:\n",
    "        inputs = inputs.to(device)\n",
    "        labels = torch.tensor(labels).to(device)\n",
    "        outputs = model(inputs.unsqueeze(0)).to(device)\n",
    "        _, predicted = torch.max(outputs.data, 1)\n",
    "        predictions.extend(predicted.cpu().numpy())\n",
    "        true_labels.extend((labels.item(),))\n",
    "\n",
    "# Compute the confusion matrix\n",
    "cm = confusion_matrix(true_labels, predictions)\n",
    "\n",
    "# Compute the accuracy\n",
    "accuracy = (cm.diagonal().sum() / cm.sum())\n",
    "\n",
    "print(\"Confusion matrix:\")\n",
    "print(cm)\n",
    "print(\"Accuracy:\", accuracy)"
   ]
  },
  {
   "cell_type": "code",
   "execution_count": 22,
   "metadata": {
    "execution": {
     "iopub.execute_input": "2023-04-29T10:48:12.577416Z",
     "iopub.status.busy": "2023-04-29T10:48:12.576400Z",
     "iopub.status.idle": "2023-04-29T10:48:33.946095Z",
     "shell.execute_reply": "2023-04-29T10:48:33.944861Z",
     "shell.execute_reply.started": "2023-04-29T10:48:12.577376Z"
    }
   },
   "outputs": [
    {
     "name": "stdout",
     "output_type": "stream",
     "text": [
      "Confusion matrix:\n",
      "[[ 18   0   3   0   0   6]\n",
      " [  0 127   0   2   0   5]\n",
      " [  4 103 110   4   0  46]\n",
      " [  0  91   3  21   2   6]\n",
      " [  0   0   0   0  22   2]\n",
      " [  7  20  26  25   3 286]]\n",
      "Accuracy: 0.6199575371549894\n"
     ]
    }
   ],
   "source": [
    "import torch\n",
    "import torchvision.datasets as datasets\n",
    "import torchvision.transforms as transforms\n",
    "from torchvision.models import resnet18\n",
    "from sklearn.metrics import confusion_matrix\n",
    "\n",
    "# # Define the transform for the test data\n",
    "\n",
    "# # Load the test dataset\n",
    "# test_dir = 'path/to/test/data'\n",
    "# test_dataset = datasets.ImageFolder(test_dir, transform=data_transform1)\n",
    "# val_dir= '/content/drive/MyDrive/Mul_Dataset/val'\n",
    "# test_dataset = datasets.ImageFolder(test_dir, transform=data_transform)\n",
    "\n",
    "# Load the pretrained ResNet18 model\n",
    "model = torch.load('/kaggle/input/super-model12/Super_Model_29_04_2023.Resnext32_V2_8-Batch.pt')\n",
    "# Set device to GPU if available\n",
    "device = torch.device(\"cuda\" if torch.cuda.is_available() else \"cpu\")\n",
    "\n",
    "# Move the model to the device\n",
    "model.to(device)\n",
    "\n",
    "# Evaluate the model on the test dataset\n",
    "model.eval()\n",
    "predictions = []\n",
    "true_labels = []\n",
    "with torch.no_grad():\n",
    "    for inputs, labels in test_dataset:\n",
    "        inputs = inputs.to(device)\n",
    "        labels = torch.tensor(labels).to(device)\n",
    "        outputs = model(inputs.unsqueeze(0))\n",
    "        _, predicted = torch.max(outputs.data, 1)\n",
    "        predictions.extend(predicted.cpu().numpy())\n",
    "        true_labels.extend((labels.item(),))\n",
    "\n",
    "# Compute the confusion matrix\n",
    "cm = confusion_matrix(true_labels, predictions)\n",
    "\n",
    "# Compute the accuracy\n",
    "accuracy = cm.diagonal().sum() / cm.sum()\n",
    "\n",
    "print(\"Confusion matrix:\")\n",
    "print(cm)\n",
    "print(\"Accuracy:\", accuracy)"
   ]
  }
 ],
 "metadata": {
  "kernelspec": {
   "display_name": "Python 3",
   "language": "python",
   "name": "python3"
  },
  "language_info": {
   "codemirror_mode": {
    "name": "ipython",
    "version": 3
   },
   "file_extension": ".py",
   "mimetype": "text/x-python",
   "name": "python",
   "nbconvert_exporter": "python",
   "pygments_lexer": "ipython3",
   "version": "3.8.5"
  }
 },
 "nbformat": 4,
 "nbformat_minor": 4
}
